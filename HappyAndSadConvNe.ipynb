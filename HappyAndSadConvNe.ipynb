{
  "nbformat": 4,
  "nbformat_minor": 0,
  "metadata": {
    "colab": {
      "name": "HappyAndSadConvNe.ipynb",
      "provenance": [],
      "authorship_tag": "ABX9TyPGBeoFeDlfBmVoiKh0rZx3",
      "include_colab_link": true
    },
    "kernelspec": {
      "name": "python3",
      "display_name": "Python 3"
    },
    "language_info": {
      "name": "python"
    }
  },
  "cells": [
    {
      "cell_type": "markdown",
      "metadata": {
        "id": "view-in-github",
        "colab_type": "text"
      },
      "source": [
        "<a href=\"https://colab.research.google.com/github/Andrew160490/Andrew160490/blob/TensorFlow/HappyAndSadConvNe.ipynb\" target=\"_parent\"><img src=\"https://colab.research.google.com/assets/colab-badge.svg\" alt=\"Open In Colab\"/></a>"
      ]
    },
    {
      "cell_type": "code",
      "execution_count": 1,
      "metadata": {
        "colab": {
          "base_uri": "https://localhost:8080/"
        },
        "id": "jiKrUwebL_k_",
        "outputId": "9f39a15c-1f18-420c-dcf2-07b595d24672"
      },
      "outputs": [
        {
          "output_type": "stream",
          "name": "stdout",
          "text": [
            "--2022-01-14 10:47:02--  https://storage.googleapis.com/laurencemoroney-blog.appspot.com/happy-or-sad.zip\n",
            "Resolving storage.googleapis.com (storage.googleapis.com)... 74.125.195.128, 74.125.20.128, 74.125.197.128, ...\n",
            "Connecting to storage.googleapis.com (storage.googleapis.com)|74.125.195.128|:443... connected.\n",
            "HTTP request sent, awaiting response... 200 OK\n",
            "Length: 2670333 (2.5M) [application/zip]\n",
            "Saving to: ‘/tmp/happy-or-sad.zip’\n",
            "\n",
            "/tmp/happy-or-sad.z 100%[===================>]   2.55M  --.-KB/s    in 0.01s   \n",
            "\n",
            "2022-01-14 10:47:02 (179 MB/s) - ‘/tmp/happy-or-sad.zip’ saved [2670333/2670333]\n",
            "\n"
          ]
        }
      ],
      "source": [
        "import tensorflow as tf\n",
        "import os\n",
        "import zipfile\n",
        "from os import path, getcwd, chdir\n",
        "\n",
        "!wget --no-check-certificate \\\n",
        "    \"https://storage.googleapis.com/laurencemoroney-blog.appspot.com/happy-or-sad.zip\" \\\n",
        "    -O \"/tmp/happy-or-sad.zip\"\n",
        "\n",
        "zip_ref = zipfile.ZipFile(\"/tmp/happy-or-sad.zip\", 'r')\n",
        "zip_ref.extractall(\"/tmp/h-or-s\")\n",
        "zip_ref.close()"
      ]
    },
    {
      "cell_type": "code",
      "source": [
        "# funzione graduata\n",
        "def train_happy_sad_model():\n",
        "\n",
        "    DESIRED_ACCURACY = 0.999\n",
        "\n",
        "    class stopTrainingCallback(tf.keras.callbacks.Callback):\n",
        "        def on_epoch_end(self, epoch, logs={}):\n",
        "            if(logs.get('acc')>DESIRED_ACCURACY):\n",
        "                print(\"\\nReached 99.9% accuracy so cancelling training!\")\n",
        "                self.model.stop_training = True\n",
        "\n",
        "    callbacks = stopTrainingCallback()\n",
        "    \n",
        "    # immagini da 150x150, inserimento di 3 convoluzioni e 3 maxpool\n",
        "    model = tf.keras.models.Sequential([tf.keras.layers.Conv2D(16, (3,3), activation='relu', input_shape=(150, 150, 3)),\n",
        "                                        tf.keras.layers.MaxPooling2D(2, 2),\n",
        "                                        tf.keras.layers.Conv2D(32, (3,3), activation='relu'),\n",
        "                                        tf.keras.layers.MaxPooling2D(2, 2),\n",
        "                                        tf.keras.layers.Conv2D(32, (3,3), activation='relu'),\n",
        "                                        tf.keras.layers.MaxPooling2D(2, 2),\n",
        "                                        tf.keras.layers.Flatten(),\n",
        "                                        tf.keras.layers.Dense(512, activation='relu'),\n",
        "                                        tf.keras.layers.Dense(1, activation='sigmoid')])\n",
        "\n",
        "    from tensorflow.keras.optimizers import RMSprop\n",
        "\n",
        "    model.compile(loss='binary_crossentropy',\n",
        "              optimizer=RMSprop(lr=0.001),\n",
        "              metrics=['acc'])\n",
        "        \n",
        "\n",
        "    # Creare istanza di Data Generator\n",
        "    from tensorflow.keras.preprocessing.image import ImageDataGenerator\n",
        "\n",
        "    train_datagen = ImageDataGenerator(rescale=1/255.0)\n",
        "\n",
        "    # target_size 150x150\n",
        "    train_generator = train_datagen.flow_from_directory(\n",
        "        '/tmp/h-or-s/', \n",
        "        target_size=(150,150), \n",
        "        batch_size=10, \n",
        "        class_mode='binary')\n",
        "    # Output atteso 80 immagini in 2 classi\n",
        "    # allenamento modello\n",
        "    history = model.fit_generator(train_generator, steps_per_epoch=8, epochs=15, verbose=1, callbacks=[callbacks])\n",
        "    # allenamento modello\n",
        "    return history.history['acc'][-1]"
      ],
      "metadata": {
        "id": "YUGxpMylMvRI"
      },
      "execution_count": 4,
      "outputs": []
    },
    {
      "cell_type": "code",
      "source": [
        "train_happy_sad_model()"
      ],
      "metadata": {
        "colab": {
          "base_uri": "https://localhost:8080/"
        },
        "id": "_bCn3niiOAln",
        "outputId": "2e955739-c60c-49a0-adfa-182db4011532"
      },
      "execution_count": 5,
      "outputs": [
        {
          "output_type": "stream",
          "name": "stderr",
          "text": [
            "/usr/local/lib/python3.7/dist-packages/keras/optimizer_v2/rmsprop.py:130: UserWarning: The `lr` argument is deprecated, use `learning_rate` instead.\n",
            "  super(RMSprop, self).__init__(name, **kwargs)\n",
            "/usr/local/lib/python3.7/dist-packages/ipykernel_launcher.py:45: UserWarning: `Model.fit_generator` is deprecated and will be removed in a future version. Please use `Model.fit`, which supports generators.\n"
          ]
        },
        {
          "output_type": "stream",
          "name": "stdout",
          "text": [
            "Found 80 images belonging to 2 classes.\n",
            "Epoch 1/15\n",
            "8/8 [==============================] - 3s 218ms/step - loss: 2.5279 - acc: 0.6625\n",
            "Epoch 2/15\n",
            "8/8 [==============================] - 2s 214ms/step - loss: 0.5210 - acc: 0.7375\n",
            "Epoch 3/15\n",
            "8/8 [==============================] - 2s 219ms/step - loss: 0.1974 - acc: 0.9375\n",
            "Epoch 4/15\n",
            "8/8 [==============================] - 2s 214ms/step - loss: 0.2191 - acc: 0.9250\n",
            "Epoch 5/15\n",
            "8/8 [==============================] - 2s 213ms/step - loss: 0.2105 - acc: 0.9125\n",
            "Epoch 6/15\n",
            "8/8 [==============================] - 2s 216ms/step - loss: 0.1585 - acc: 0.9125\n",
            "Epoch 7/15\n",
            "8/8 [==============================] - 2s 214ms/step - loss: 0.1610 - acc: 0.9250\n",
            "Epoch 8/15\n",
            "8/8 [==============================] - 2s 217ms/step - loss: 0.0813 - acc: 0.9625\n",
            "Epoch 9/15\n",
            "8/8 [==============================] - 2s 218ms/step - loss: 0.1995 - acc: 0.9250\n",
            "Epoch 10/15\n",
            "8/8 [==============================] - 2s 215ms/step - loss: 0.1006 - acc: 0.9375\n",
            "Epoch 11/15\n",
            "8/8 [==============================] - 2s 215ms/step - loss: 0.0328 - acc: 0.9875\n",
            "Epoch 12/15\n",
            "8/8 [==============================] - ETA: 0s - loss: 0.0144 - acc: 1.0000\n",
            "Reached 99.9% accuracy so cancelling training!\n",
            "8/8 [==============================] - 2s 214ms/step - loss: 0.0144 - acc: 1.0000\n"
          ]
        },
        {
          "output_type": "execute_result",
          "data": {
            "text/plain": [
              "1.0"
            ]
          },
          "metadata": {},
          "execution_count": 5
        }
      ]
    }
  ]
}