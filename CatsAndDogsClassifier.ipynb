{
  "nbformat": 4,
  "nbformat_minor": 0,
  "metadata": {
    "colab": {
      "name": "CatsAndDogsClassifier.ipynb",
      "provenance": [],
      "authorship_tag": "ABX9TyMAFt43faAfIUACwppm8Rbl",
      "include_colab_link": true
    },
    "kernelspec": {
      "name": "python3",
      "display_name": "Python 3"
    },
    "language_info": {
      "name": "python"
    }
  },
  "cells": [
    {
      "cell_type": "markdown",
      "metadata": {
        "id": "view-in-github",
        "colab_type": "text"
      },
      "source": [
        "<a href=\"https://colab.research.google.com/github/Andrew160490/Andrew160490/blob/TensorFlow/CatsAndDogsClassifier.ipynb\" target=\"_parent\"><img src=\"https://colab.research.google.com/assets/colab-badge.svg\" alt=\"Open In Colab\"/></a>"
      ]
    },
    {
      "cell_type": "code",
      "execution_count": 5,
      "metadata": {
        "id": "OuE4OKyXFrxY"
      },
      "outputs": [],
      "source": [
        "import os\n",
        "import zipfile\n",
        "import random\n",
        "import tensorflow as tf\n",
        "import shutil\n",
        "from tensorflow.keras.optimizers import RMSprop\n",
        "from tensorflow.keras.preprocessing.image import ImageDataGenerator\n",
        "from shutil import copyfile\n",
        "from os import getcwd"
      ]
    },
    {
      "cell_type": "code",
      "source": [
        "!wget --no-check-certificate \\\n",
        "    \"https://download.microsoft.com/download/3/E/1/3E1C3F21-ECDB-4869-8368-6DEBA77B919F/kagglecatsanddogs_3367a.zip\" \\\n",
        "    -O \"/tmp/cats-and-dogs.zip\"\n",
        "\n",
        "local_zip = '/tmp/cats-and-dogs.zip'\n",
        "zip_ref   = zipfile.ZipFile(local_zip, 'r')\n",
        "zip_ref.extractall('/tmp')\n",
        "zip_ref.close()"
      ],
      "metadata": {
        "colab": {
          "base_uri": "https://localhost:8080/"
        },
        "id": "Uh25MQESHCSD",
        "outputId": "055fe18d-e3fa-4c44-e1af-0dc3738b1c03"
      },
      "execution_count": 6,
      "outputs": [
        {
          "output_type": "stream",
          "name": "stdout",
          "text": [
            "--2022-01-17 08:16:47--  https://download.microsoft.com/download/3/E/1/3E1C3F21-ECDB-4869-8368-6DEBA77B919F/kagglecatsanddogs_3367a.zip\n",
            "Resolving download.microsoft.com (download.microsoft.com)... 23.78.216.154, 2600:1417:8000:9b2::e59, 2600:1417:8000:980::e59\n",
            "Connecting to download.microsoft.com (download.microsoft.com)|23.78.216.154|:443... connected.\n",
            "HTTP request sent, awaiting response... 200 OK\n",
            "Length: 824894548 (787M) [application/octet-stream]\n",
            "Saving to: ‘/tmp/cats-and-dogs.zip’\n",
            "\n",
            "/tmp/cats-and-dogs. 100%[===================>] 786.68M   114MB/s    in 6.9s    \n",
            "\n",
            "2022-01-17 08:16:55 (114 MB/s) - ‘/tmp/cats-and-dogs.zip’ saved [824894548/824894548]\n",
            "\n"
          ]
        }
      ]
    },
    {
      "cell_type": "code",
      "source": [
        "print(len(os.listdir('/tmp/PetImages/Cat/')))\n",
        "print(len(os.listdir('/tmp/PetImages/Dog/')))\n",
        "\n",
        "# Expected Output:\n",
        "# 12501\n",
        "# 12501"
      ],
      "metadata": {
        "colab": {
          "base_uri": "https://localhost:8080/"
        },
        "id": "2HI50MMGHL9k",
        "outputId": "65a78054-ceaf-493e-f8c1-9e84f0fdc87e"
      },
      "execution_count": 7,
      "outputs": [
        {
          "output_type": "stream",
          "name": "stdout",
          "text": [
            "12501\n",
            "12501\n"
          ]
        }
      ]
    },
    {
      "cell_type": "code",
      "source": [
        "# creazione delle directory di lavoro\n",
        "try:\n",
        "    os.makedirs(\"/tmp/cats-v-dogs/\", exist_ok=True)\n",
        "    os.makedirs('tmp/cats-v-dogs/training/', exist_ok=True)\n",
        "    os.makedirs('tmp/cats-v-dogs/testing/', exist_ok=True)\n",
        "    os.makedirs('tmp/cats-v-dogs/training/cats/', exist_ok=True)\n",
        "    os.makedirs('tmp/cats-v-dogs/training/dogs/', exist_ok=True)\n",
        "    os.makedirs('tmp/cats-v-dogs/testing/cats/', exist_ok=True)\n",
        "    os.makedirs('tmp/cats-v-dogs/testing/dogs/', exist_ok=True)\n",
        "except OSError:\n",
        "    pass"
      ],
      "metadata": {
        "id": "u9ukLGCxHSes"
      },
      "execution_count": 8,
      "outputs": []
    },
    {
      "cell_type": "code",
      "source": [
        "# creazione della funzione che contiene SOURCE directory dei file\n",
        "# TRAINING che contiene una porzione di file che alleneranno la rete\n",
        "# TESTING che contiene una porzione di file di test \n",
        "# SPLIT SIZE che contiene la dimensione della porzione utilizzata\n",
        "def split_data(SOURCE, TRAINING, TESTING, SPLIT_SIZE):\n",
        "    if not os.path.exists(TRAINING): \n",
        "        os.makedirs(TRAINING) \n",
        "\n",
        "    if not os.path.exists(TESTING): \n",
        "        os.makedirs(TESTING) \n",
        "       \n",
        "    file_names = os.listdir(SOURCE) \n",
        "    file_number = len(file_names) \n",
        "\n",
        "    for index, file in enumerate(file_names): \n",
        "\n",
        "        if index < SPLIT_SIZE * file_number: \n",
        "            copyfile(os.path.join(SOURCE, file), os.path.join(TRAINING, file)) \n",
        "        else: \n",
        "            copyfile(os.path.join(SOURCE, file), os.path.join(TESTING, file)) \n",
        "\n",
        "CAT_SOURCE_DIR = \"/tmp/PetImages/Cat/\"\n",
        "TRAINING_CATS_DIR = \"/tmp/cats-v-dogs/training/cats/\"\n",
        "TESTING_CATS_DIR = \"/tmp/cats-v-dogs/testing/cats/\"\n",
        "DOG_SOURCE_DIR = \"/tmp/PetImages/Dog/\"\n",
        "TRAINING_DOGS_DIR = \"/tmp/cats-v-dogs/training/dogs/\"\n",
        "TESTING_DOGS_DIR = \"/tmp/cats-v-dogs/testing/dogs/\"\n",
        "\n",
        "split_size = .9\n",
        "split_data(CAT_SOURCE_DIR, TRAINING_CATS_DIR, TESTING_CATS_DIR, split_size)\n",
        "split_data(DOG_SOURCE_DIR, TRAINING_DOGS_DIR, TESTING_DOGS_DIR, split_size)"
      ],
      "metadata": {
        "id": "_6ozMTufHYpM"
      },
      "execution_count": 9,
      "outputs": []
    },
    {
      "cell_type": "code",
      "source": [
        "print(len(os.listdir('/tmp/cats-v-dogs/training/cats/')))\n",
        "print(len(os.listdir('/tmp/cats-v-dogs/training/dogs/')))\n",
        "print(len(os.listdir('/tmp/cats-v-dogs/testing/cats/')))\n",
        "print(len(os.listdir('/tmp/cats-v-dogs/testing/dogs/')))\n",
        "\n",
        "# Expected output:\n",
        "# 11250\n",
        "# 11250\n",
        "# 1250\n",
        "# 1250"
      ],
      "metadata": {
        "colab": {
          "base_uri": "https://localhost:8080/"
        },
        "id": "YHOkiwDYIUfv",
        "outputId": "7b575273-74d4-4159-8e12-49e80762bfe4"
      },
      "execution_count": 10,
      "outputs": [
        {
          "output_type": "stream",
          "name": "stdout",
          "text": [
            "11251\n",
            "11251\n",
            "1250\n",
            "1250\n"
          ]
        }
      ]
    },
    {
      "cell_type": "code",
      "source": [
        "# definizione del modello di rete neurale convoluzionale 3 conv, 3 max pool\n",
        "model = tf.keras.models.Sequential([ tf.keras.layers.Conv2D(16, (3,3), activation='relu', input_shape=(150, 150, 3)),\n",
        "                                     tf.keras.layers.MaxPool2D(2,2),\n",
        "                                     tf.keras.layers.Conv2D(32, (3,3), activation='relu'),\n",
        "                                     tf.keras.layers.MaxPool2D(2,2),\n",
        "                                     tf.keras.layers.Conv2D(32, (3,3), activation='relu'),\n",
        "                                     tf.keras.layers.MaxPool2D(2,2),\n",
        "                                     tf.keras.layers.Flatten(),\n",
        "                                     tf.keras.layers.Dense(512, activation='relu'),\n",
        "                                     tf.keras.layers.Dense(1, activation='sigmoid')])\n",
        "\n",
        "model.compile(optimizer=RMSprop(learning_rate=0.001), loss='binary_crossentropy', metrics=['acc'])"
      ],
      "metadata": {
        "id": "G21nEISuIfOj"
      },
      "execution_count": 12,
      "outputs": []
    },
    {
      "cell_type": "code",
      "source": [
        "# definizione delle directory di allenamento e testing\n",
        "TRAINING_DIR = \"/tmp/cats-v-dogs/training\"\n",
        "train_datagen = ImageDataGenerator(rescale=1/255.0)\n",
        "train_generator = train_datagen.flow_from_directory(TRAINING_DIR, \n",
        "                                                    target_size=(150,150), \n",
        "                                                    batch_size=10, \n",
        "                                                    class_mode='binary')\n",
        "\n",
        "VALIDATION_DIR = \"/tmp/cats-v-dogs/testing\"\n",
        "validation_datagen = ImageDataGenerator(rescale=1/255.0)\n",
        "validation_generator = train_datagen.flow_from_directory(VALIDATION_DIR, \n",
        "                                                    target_size=(150,150), \n",
        "                                                    batch_size=10, \n",
        "                                                    class_mode='binary')\n",
        "\n",
        "# Expected Output:\n",
        "# Found 22500 images belonging to 2 classes.\n",
        "# Found 2500 images belonging to 2 classes."
      ],
      "metadata": {
        "colab": {
          "base_uri": "https://localhost:8080/"
        },
        "id": "rB4luIR-JGRf",
        "outputId": "26064193-289d-4ed9-8b2a-ddf3fd85bae5"
      },
      "execution_count": 13,
      "outputs": [
        {
          "output_type": "stream",
          "name": "stdout",
          "text": [
            "Found 22500 images belonging to 2 classes.\n",
            "Found 2500 images belonging to 2 classes.\n"
          ]
        }
      ]
    },
    {
      "cell_type": "code",
      "source": [
        "history = model.fit(train_generator, epochs=15, steps_per_epoch=90,\n",
        "                    validation_data=validation_generator, validation_steps=6)"
      ],
      "metadata": {
        "id": "YfT6B-ucJa1t"
      },
      "execution_count": null,
      "outputs": []
    },
    {
      "cell_type": "code",
      "source": [
        "# grafico e accuratezza\n",
        "%matplotlib inline\n",
        "\n",
        "import matplotlib.image  as mpimg\n",
        "import matplotlib.pyplot as plt\n",
        "\n",
        "acc=history.history['acc']\n",
        "val_acc=history.history['val_acc']\n",
        "loss=history.history['loss']\n",
        "val_loss=history.history['val_loss']\n",
        "\n",
        "epochs=range(len(acc)) \n",
        "\n",
        "# Plot training and validation accuracy per epoch\n",
        "plt.plot(epochs, acc, 'r', \"Training Accuracy\")\n",
        "plt.plot(epochs, val_acc, 'b', \"Validation Accuracy\")\n",
        "plt.title('Training and validation accuracy')\n",
        "plt.figure()\n",
        "\n",
        "# Plot training and validation loss per epoch\n",
        "plt.plot(epochs, loss, 'r', \"Training Loss\")\n",
        "plt.plot(epochs, val_loss, 'b', \"Validation Loss\")\n",
        "\n",
        "\n",
        "plt.title('Training and validation loss')\n",
        "\n"
      ],
      "metadata": {
        "id": "4cslPhEgKmpk"
      },
      "execution_count": null,
      "outputs": []
    }
  ]
}