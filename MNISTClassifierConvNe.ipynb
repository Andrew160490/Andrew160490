{
  "nbformat": 4,
  "nbformat_minor": 0,
  "metadata": {
    "colab": {
      "name": "MNISTClassifierConvNe.ipynb",
      "provenance": [],
      "authorship_tag": "ABX9TyM+mEz5scpLAi/qNyxO4rHv",
      "include_colab_link": true
    },
    "kernelspec": {
      "name": "python3",
      "display_name": "Python 3"
    },
    "language_info": {
      "name": "python"
    }
  },
  "cells": [
    {
      "cell_type": "markdown",
      "metadata": {
        "id": "view-in-github",
        "colab_type": "text"
      },
      "source": [
        "<a href=\"https://colab.research.google.com/github/Andrew160490/Andrew160490/blob/TensorFlow/MNISTClassifierConvNe.ipynb\" target=\"_parent\"><img src=\"https://colab.research.google.com/assets/colab-badge.svg\" alt=\"Open In Colab\"/></a>"
      ]
    },
    {
      "cell_type": "code",
      "execution_count": 4,
      "metadata": {
        "id": "rmNUqxI10Tjn"
      },
      "outputs": [],
      "source": [
        "import tensorflow as tf\n",
        "from os import path, getcwd, chdir\n",
        "from keras.datasets import mnist"
      ]
    },
    {
      "cell_type": "code",
      "source": [
        "!pip install -U protobuf==3.11.3"
      ],
      "metadata": {
        "colab": {
          "base_uri": "https://localhost:8080/"
        },
        "id": "9H8-E-np538f",
        "outputId": "b69dd951-66cb-45c8-8663-c34453a4c7ed"
      },
      "execution_count": 1,
      "outputs": [
        {
          "output_type": "stream",
          "name": "stdout",
          "text": [
            "Requirement already satisfied: protobuf==3.11.3 in /usr/local/lib/python3.7/dist-packages (3.11.3)\n",
            "Requirement already satisfied: six>=1.9 in /usr/local/lib/python3.7/dist-packages (from protobuf==3.11.3) (1.15.0)\n",
            "Requirement already satisfied: setuptools in /usr/local/lib/python3.7/dist-packages (from protobuf==3.11.3) (57.4.0)\n"
          ]
        }
      ]
    },
    {
      "cell_type": "code",
      "source": [
        "config = tf.compat.v1.ConfigProto()\n",
        "config.gpu_options.allow_growth = True\n",
        "session = tf.compat.v1.Session(config=config)"
      ],
      "metadata": {
        "id": "7_3WaGtK0_Iw"
      },
      "execution_count": 5,
      "outputs": []
    },
    {
      "cell_type": "code",
      "source": [
        "# funzione graduata\n",
        "def train_mnist_conv():\n",
        "    class stopTrainingCallback(tf.keras.callbacks.Callback):\n",
        "        def on_epoch_end(self, epoch, logs={}):\n",
        "            if(logs.get('accuracy') > 0.998):\n",
        "                print(\"\\nReached 99.8% accuracy so cancelling training!\")\n",
        "                self.model.stop_training = True\n",
        "    callbacks = stopTrainingCallback() \n",
        "    \n",
        "    mnist = tf.keras.datasets.mnist\n",
        "    (training_images, training_labels), (test_images, test_labels) = mnist.load_data()\n",
        "    training_images=training_images.reshape([60000, 28, 28, 1])\n",
        "    training_images=training_images / 255.0\n",
        "    test_images = test_images.reshape([10000, 28, 28, 1])\n",
        "    test_images=test_images/255.0\n",
        "    \n",
        "    #inserimento 1 convoluzione 1 maxpool nel modello\n",
        "    model = tf.keras.models.Sequential([tf.keras.layers.Conv2D(32, (3,3), activation='relu', input_shape=(28, 28, 1)),\n",
        "                                        tf.keras.layers.MaxPooling2D(2, 2),\n",
        "                                        tf.keras.layers.Flatten(),\n",
        "                                        tf.keras.layers.Dense(128, activation='relu'),\n",
        "                                        tf.keras.layers.Dense(10, activation='softmax')])\n",
        "\n",
        "    model.compile(optimizer='adam', loss='sparse_categorical_crossentropy', metrics=['accuracy'])\n",
        "    # allenamento modello\n",
        "    history = model.fit(training_images, training_labels, epochs=20, callbacks=[callbacks])\n",
        "    # allenamento modello\n",
        "    return history.epoch, history.history['accuracy'][-1]"
      ],
      "metadata": {
        "id": "X9uMpd5o1SPX"
      },
      "execution_count": 18,
      "outputs": []
    },
    {
      "cell_type": "code",
      "source": [
        "train_mnist_conv()"
      ],
      "metadata": {
        "colab": {
          "base_uri": "https://localhost:8080/"
        },
        "id": "60GONxtiAQjU",
        "outputId": "cf6d3b1a-a3dd-42ed-9e6f-8884c30b9510"
      },
      "execution_count": 19,
      "outputs": [
        {
          "output_type": "stream",
          "name": "stdout",
          "text": [
            "Epoch 1/20\n",
            "1875/1875 [==============================] - 31s 16ms/step - loss: 0.1526 - accuracy: 0.9541\n",
            "Epoch 2/20\n",
            "1875/1875 [==============================] - 31s 16ms/step - loss: 0.0494 - accuracy: 0.9850\n",
            "Epoch 3/20\n",
            "1875/1875 [==============================] - 30s 16ms/step - loss: 0.0306 - accuracy: 0.9900\n",
            "Epoch 4/20\n",
            "1875/1875 [==============================] - 30s 16ms/step - loss: 0.0195 - accuracy: 0.9939\n",
            "Epoch 5/20\n",
            "1875/1875 [==============================] - 31s 16ms/step - loss: 0.0135 - accuracy: 0.9956\n",
            "Epoch 6/20\n",
            "1875/1875 [==============================] - 30s 16ms/step - loss: 0.0100 - accuracy: 0.9967\n",
            "Epoch 7/20\n",
            "1875/1875 [==============================] - 30s 16ms/step - loss: 0.0077 - accuracy: 0.9976\n",
            "Epoch 8/20\n",
            "1875/1875 [==============================] - 30s 16ms/step - loss: 0.0066 - accuracy: 0.9978\n",
            "Epoch 9/20\n",
            "1875/1875 [==============================] - ETA: 0s - loss: 0.0047 - accuracy: 0.9985\n",
            "Reached 99.8% accuracy so cancelling training!\n",
            "1875/1875 [==============================] - 30s 16ms/step - loss: 0.0047 - accuracy: 0.9985\n"
          ]
        },
        {
          "output_type": "execute_result",
          "data": {
            "text/plain": [
              "([0, 1, 2, 3, 4, 5, 6, 7, 8], 0.9984833598136902)"
            ]
          },
          "metadata": {},
          "execution_count": 19
        }
      ]
    }
  ]
}